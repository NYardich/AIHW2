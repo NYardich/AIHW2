{
  "nbformat": 4,
  "nbformat_minor": 0,
  "metadata": {
    "coursera": {
      "course_slug": "neural-networks-deep-learning",
      "graded_item_id": "XaIWT",
      "launcher_item_id": "zAgPl"
    },
    "kernelspec": {
      "display_name": "Python 3",
      "language": "python",
      "name": "python3"
    },
    "language_info": {
      "codemirror_mode": {
        "name": "ipython",
        "version": 3
      },
      "file_extension": ".py",
      "mimetype": "text/x-python",
      "name": "python",
      "nbconvert_exporter": "python",
      "pygments_lexer": "ipython3",
      "version": "3.8.5"
    },
    "colab": {
      "name": "Homework_02.ipynb",
      "provenance": [],
      "collapsed_sections": []
    }
  },
  "cells": [
    {
      "cell_type": "markdown",
      "metadata": {
        "id": "3CwmdgRaVUuI"
      },
      "source": [
        "# Logistic Regression Homework\n",
        "\n",
        "This is the 2nd assignment for CAP 4630 and we will implement logistic regression and apply it to two\n",
        "different datasets. \\\n",
        "You will use **\"Tasks\"** and **\"Hints\"** to finish the work. **(Total 100 Points)** \\\n",
        "You are **not** allowed to use Machine Learning libaries such as Scikit-learn and Keras.\n",
        "\n",
        "**Task Overview:**\n",
        "- Logistic Regression "
      ]
    },
    {
      "cell_type": "markdown",
      "metadata": {
        "id": "M-lm1r9lVUuR"
      },
      "source": [
        "## 1 - Logistic Regression ##\n",
        "### 1.1 Packages\n",
        "\n",
        "Import useful packages for scientific computing and data processing. \n",
        "\n",
        "**Tasks:**\n",
        "1. Import numpy and rename it to np.\n",
        "2. Import pandas and rename it to pd.\n",
        "3. Import the pyplot function in the libraray of matplotlib and rename it to plt.\n",
        "\n",
        "References:\n",
        "- [numpy](www.numpy.org) is the fundamental package for scientific computing with Python.\n",
        "- [matplotlib](http://matplotlib.org) is a famous library to plot graphs in Python.\n",
        "\n",
        "**Attention:**\n",
        "1. After this renaming, you will use the new name to call functions. For example, **numpy** will become **np** in the following sections."
      ]
    },
    {
      "cell_type": "code",
      "metadata": {
        "id": "M5KKjfvAVUuS"
      },
      "source": [
        "# Import and rename libraries here\n",
        "import numpy as np\n",
        "import pandas as pd\n",
        "from matplotlib import pyplot as plt"
      ],
      "execution_count": 41,
      "outputs": []
    },
    {
      "cell_type": "markdown",
      "metadata": {
        "collapsed": true,
        "id": "gKYT1RKvVUuV"
      },
      "source": [
        "### 1.2 - Data Preparation ##\n",
        "\n",
        "Prepare the data for regression task. **(20 Points)**\n",
        "\n",
        "**Tasks:**\n",
        "1. Load data for logistic regression.\n",
        "2. **Generate the SCATTER PLOT of the data**.\n",
        "\n",
        "**Hints:**\n",
        "1. The data file is \"data_logistic.csv\", which are exam scores for students.\n",
        "2. The data is organized by column: x1 (exam 1 score), x2 (exam 2 score), and label y (pass 1 or fail 0).\n",
        "3. Please use different colors for postive(label=1) and negative(label=0) data.\n",
        "4. An example of scatter plots is shown below.\n",
        "\n",
        "![](https://drive.google.com/uc?export=view&id=1CPv5s4W8SkUMa_sXCIz-NejSnFj-e1IH)"
      ]
    },
    {
      "cell_type": "code",
      "metadata": {
        "colab": {
          "base_uri": "https://localhost:8080/",
          "height": 265
        },
        "id": "p21flLUJVUuX",
        "outputId": "593f55ef-ba2f-473c-ae94-75b396544a69"
      },
      "source": [
        "# Preprocess input data and generate plots\n",
        "dataseturl = 'https://raw.githubusercontent.com/NYardich/AIHW2/main/data_logistic.csv'\n",
        "data = pd.read_csv(dataseturl)\n",
        "X1 = data.iloc[:, 0]\n",
        "X2 = data.iloc[:, 1]\n",
        "Y = data.iloc[:, 2]\n",
        "\n",
        "for horiz, vert, binary in zip(X1, X2, Y):\n",
        "  if binary == 0:\n",
        "    plt.scatter(horiz, vert, color = \"red\")\n",
        "  else:\n",
        "    plt.scatter(horiz, vert, color = \"green\") \n",
        "plt.show()"
      ],
      "execution_count": 42,
      "outputs": [
        {
          "output_type": "display_data",
          "data": {
            "image/png": "[encoded data removed]",
            "text/plain": [
              "<Figure size 432x288 with 1 Axes>"
            ]
          },
          "metadata": {
            "needs_background": "light"
          }
        }
      ]
    },
    {
      "cell_type": "markdown",
      "metadata": {
        "id": "3eR5CuffVUuX"
      },
      "source": [
        "### 1.3 - Sigmoid function ##\n",
        "\n",
        "\n",
        "Implement sigmoid function so it can be called by the rest of your program. **(20 Points)**\n",
        "\n",
        "**Tasks:**\n",
        "1. Implement the sigmoid function (**def sigmoid(z):**). \n",
        "2. Test the sigmoid function by function **plotting** with test data (X, Y) where Y = sigmoid(X). \n",
        "\n",
        "**Hints:**  \n",
        "1. Given the class material, sigmoid function is defined as:\n",
        "$g(z) = \\frac{1}{1+e^{-z}}$.\n",
        "2. You may consider X = np.linspace(-5, 5, 1000) to plot the curve.\n",
        "3. Plot Y against X.\n",
        "4. An example of plot for validation is shown below:\n",
        "\n",
        "![](https://drive.google.com/uc?export=view&id=18j5oHdw78uVm2WwHsdIb4hwhpXDxR37S)"
      ]
    },
    {
      "cell_type": "code",
      "metadata": {
        "id": "kqtnMrBfVUuY"
      },
      "source": [
        "# Implement sigmoid fuction here\n",
        "import math\n",
        "def sigmoid(z):\n",
        "  return 1/(1 + (math.e ** -z))\n"
      ],
      "execution_count": 43,
      "outputs": []
    },
    {
      "cell_type": "code",
      "metadata": {
        "colab": {
          "base_uri": "https://localhost:8080/",
          "height": 265
        },
        "id": "dRwKzZ5GVUuZ",
        "outputId": "8713679d-071d-4e64-efbd-71e6853ec056"
      },
      "source": [
        "# Plot data here\n",
        "X = np.linspace(-5, 5, 1000)\n",
        "plt.plot(X, sigmoid(X))\n",
        "plt.show()"
      ],
      "execution_count": 44,
      "outputs": [
        {
          "output_type": "display_data",
          "data": {
            "image/png": "[encoded data removed]",
            "text/plain": [
              "<Figure size 432x288 with 1 Axes>"
            ]
          },
          "metadata": {
            "needs_background": "light"
          }
        }
      ]
    },
    {
      "cell_type": "markdown",
      "metadata": {
        "id": "YQNdL9tYVUua"
      },
      "source": [
        "### 1.4 - Cost function and gradient ##\n",
        "\n",
        "Implement the cross entropy cost function and its gradient for logistic regression. **(30 Points)**\n",
        "\n",
        "**Tasks:**\n",
        "1. Implement the \"cal_cost\" to compute the cost.\n",
        "2. Implement the \"cal_grad\" to compute the gradients.\n",
        "3. Test \"cal_cost\" and \"cal_grad\" with initial values and print out the results.\n",
        "\n",
        "**Hint:**\n",
        "1. The cross entropy cost function (J(θ)) in logistic regression is shown below. It involves two terms, including ylog(h) and (1-y)log(1-h) where h is the function of x.\n",
        "\n",
        "![](https://drive.google.com/uc?export=view&id=1xLhlPFI4wekwuA7lFm7ebRVt0XBZk3e7)\n",
        "\n",
        "2. The gradient of the cost J(θ) is a vector of the same length as θ where the $j$th element (for $j = 0, 1, . . . , n)$ is defined below. You may do a hand calculation to justify the first order derivative with the term above.\n",
        "\n",
        "![](https://drive.google.com/uc?export=view&id=1xfA0A0xyRv2L5JZIdedAmEZxZ3DwpOCF)\n",
        "\n",
        "3. When you implement J(θ), please use eps = 1e-15 to prevent possible \"divide by 0 exception\" in second term. You may think about the reason.\n",
        "4. You may consider the below templates for two functions:\n",
        "\n",
        "    def cal_cost(theta, X, y):\n",
        " \n",
        "        htheta = ...\n",
        "        term1 = ...  /* matrix_multiplication(log(htheta), y)\n",
        "        term2 = ...  /* matrix_multiplication(log(1-htheta+eps), (1-y))\n",
        "        J = - 1 / m * (term1 + term2) \n",
        "        \n",
        "        return cost\n",
        "        \n",
        "    \n",
        "    def cal_grad(theta, X, y):\n",
        "        \n",
        "        htheta = ...\n",
        "        term1 = ... /* matrix_multiplication(transpose(X), (htheta - y))  //you may think about why transpose(x)\n",
        "        grad = 1 / m * term1 \n",
        "    \n",
        "        return grad\n",
        "5. It involves matrix multiplication and you may consider the function of np.matmul or np.dot.   \n",
        "        \n",
        "6. Initialize the intercept term (constant term) with **ones** and the theta with **zeros**. Test the functions with these initial values. \\\n",
        "    **Expected outputs:**\\\n",
        "    Cost at initial theta : 0.6931471805599445\\\n",
        "    Gradient at inital theta : [-0.1        -10.91242026 -11.73652937]\n"
      ]
    },
    {
      "cell_type": "code",
      "metadata": {
        "id": "PzMcbNHBVUub",
        "colab": {
          "base_uri": "https://localhost:8080/"
        },
        "outputId": "e8eea85d-faff-4194-d852-ac7228d4f3a4"
      },
      "source": [
        "# Implement the cost function here\n",
        "def cal_cost(theta, X, y):\n",
        "  m = y.size\n",
        "  eps = 1e-15\n",
        "  htheta = sigmoid(np.dot(X, theta))\n",
        "  # htheta is now a m x 1 vector ([m x 3] x [3 x 1])\n",
        "  term1 = np.dot(np.transpose(np.log(htheta)), y) # matrix_multiplication(log(htheta), y)\n",
        "  # term1 is a 1x1 matrix ([1 x m] x [m x 1])\n",
        "  term2 = np.dot(np.transpose(np.log(1 - htheta + eps)), ((1 - y))) # matrix_multiplication(log(1-htheta+eps), (1-y))\n",
        "  # term2 is a 1x1 matrix ([1 x m] x [m x 1])\n",
        "  cost = (- 1 / m) * np.sum(term1 + term2)\n",
        "  # cost is a value\n",
        "  return cost\n",
        "\n",
        "def cal_grad(theta, X, y):\n",
        "  m = y.size\n",
        "  htheta = sigmoid(np.dot(X, theta))\n",
        "  # htheta is now a m x 1 vector\n",
        "  term1 = np.dot(np.transpose(X), (htheta - y)) # matrix multiplication(transpose(X), (htheta - y))\n",
        "  # term1 is now a 3 x 1 matrix\n",
        "  grad =  (1 / m) * term1\n",
        "  return grad\n",
        "\n",
        "theta = np.array([[0], [0], [0]])\n",
        "X0 = np.transpose(np.ones((X1.size)))\n",
        "X = np.column_stack([X0, X1, X2])\n",
        "y = np.column_stack([Y])\n",
        "\n",
        "print(cal_cost(theta, X, y))\n",
        "print(cal_grad(theta, X, y))"
      ],
      "execution_count": 45,
      "outputs": [
        {
          "output_type": "stream",
          "name": "stdout",
          "text": [
            "0.6931471805599445\n",
            "[[ -0.1       ]\n",
            " [-10.91242026]\n",
            " [-11.73652937]]\n"
          ]
        }
      ]
    },
    {
      "cell_type": "markdown",
      "metadata": {
        "id": "-3F6L_xoVUuc"
      },
      "source": [
        "## 1.5 Train parameters with Gradient Descent ##\n",
        "\n",
        "\n",
        "Train parameters using Gradient Descent. **(15 Points)**\n",
        "\n",
        "**Tasks:**\n",
        "1. Calculate best fit theta by Gradient Descent with learning rate of **0.001 (1e-3)** and epoch of **80K**. The initial theta from above blocks is used as initial values.\n",
        "2. Print out the best theta (the last one is considered as the best here) and its corresponding cost.\n",
        "3. **Plot the decision boundary**.\n",
        "\n",
        "**Hints:**\n",
        "1. You may take gradient descent in homework 1 as an template.\n",
        "2. Derive the boundary line from **sigmoid(theta[0]+ X1 * theta[1] + X2* theta[2])=0.5**. Think about why we get the line by setting **the activated probability to 0.5**. Also, try to calculate the final relationship between X1 and X2. When sigmoid(X) = 0.5, what is the value of x? Check the generated plot in 1.3.\n",
        "3. The validation of first 5 epochs (updated theta and cost): \\\n",
        "------Epoch 0------\\\n",
        "Theta: [0.0001     0.01091242 0.01173653]\\\n",
        "Cost: 0.6996118077359638\\\n",
        "------Epoch 1------\\\n",
        "Theta: [-0.0001129   0.00053949  0.00229352]\\\n",
        "Cost: 0.6649331468590681\\\n",
        "------Epoch 2------\\\n",
        "Theta: [-5.93604956e-05  8.33145873e-03  1.07754324e-02]\\\n",
        "Cost: 0.6679914364992459\\\n",
        "------Epoch 3------\\\n",
        "Theta: [-0.0002356   0.0004607   0.00370829]\\\n",
        "Cost: 0.6545873034874964\\\n",
        "------Epoch 4------\\\n",
        "Theta: [-0.00020363  0.00683227  0.01065138]\\\n",
        "Cost: 0.6563302142684528\n",
        "4. You may take the plots below as an exmample: \n",
        "\n",
        "![](https://drive.google.com/uc?export=view&id=1xLg9LrIF888gGXj3zRAG9iJLsyAmgPQg)\n",
        "\n",
        "5. It may take ~1 min to finish running."
      ]
    },
    {
      "cell_type": "code",
      "metadata": {
        "id": "3f0LQtqhVUud",
        "colab": {
          "base_uri": "https://localhost:8080/"
        },
        "outputId": "bbf94228-6dda-4467-8af0-53dc28634267"
      },
      "source": [
        "# Gradient Descent Implementation Here\n",
        "\n",
        "L=1e-3\n",
        "epochs = 80000\n",
        "theta = np.array([[0], [0], [0]])\n",
        "X0 = np.transpose(np.ones((X1.size)))\n",
        "X = np.column_stack([X0, X1, X2])\n",
        "y = np.column_stack([Y])\n",
        "\n",
        "# Gradient Descent\n",
        "for i in range(epochs): \n",
        "    # cal_grad is the partial derivative with respect to theta\n",
        "    theta = theta - L * cal_grad(theta, X, y)  # Updating theta\n",
        "print (theta)\n",
        "print (cal_cost(theta, X, y))"
      ],
      "execution_count": 46,
      "outputs": [
        {
          "output_type": "stream",
          "name": "stdout",
          "text": [
            "[[-3.88329777]\n",
            " [ 0.02947987]\n",
            " [ 0.03935448]]\n",
            "0.43838894881827817\n"
          ]
        }
      ]
    },
    {
      "cell_type": "code",
      "metadata": {
        "id": "fPJL3lTzVUue",
        "colab": {
          "base_uri": "https://localhost:8080/",
          "height": 265
        },
        "outputId": "7f780c21-ba38-4549-e97a-7c5abb3ff6d0"
      },
      "source": [
        "# Draw Decision Boundary Here\n",
        "for horiz, vert, binary in zip(X1, X2, Y):\n",
        "  if binary == 0:\n",
        "    plt.scatter(horiz, vert, color = \"red\")\n",
        "  else:\n",
        "    plt.scatter(horiz, vert, color = \"green\")\n",
        "thet0 = theta[0][0]\n",
        "thet1 = theta[1][0]\n",
        "thet2 = theta[2][0]\n",
        "plt.plot(X1, - (thet1 * X1 + thet0) / thet2)\n",
        "plt.show()"
      ],
      "execution_count": 36,
      "outputs": [
        {
          "output_type": "display_data",
          "data": {
            "image/png": "[encoded data removed]",
            "text/plain": [
              "<Figure size 432x288 with 1 Axes>"
            ]
          },
          "metadata": {
            "needs_background": "light"
          }
        }
      ]
    },
    {
      "cell_type": "markdown",
      "metadata": {
        "id": "xI6aco_TVUuf"
      },
      "source": [
        "\n",
        "### 1.6 Evaluating Logistic Regression\n",
        "\n",
        "Evaluate the model with given data. **(15 Points)**\n",
        "\n",
        "**Tasks:**\n",
        "1. Calculate the training accuracy and **PRINT IT OUT**.\n",
        "2. Evaluate the predicted probability of the learnt model with x1 = 56 and x2 = 32 and **PRINT IT OUT**.\n",
        "\n",
        "\n",
        "**Hints:**  \n",
        "1. Positive(prediction>0.5) and negative(prediction<=0.5). \n",
        "2. The prediction results are based on acceptance probability. Given the two exam scores, we expected the model yields either high probability of \"fail\" or low probability of \"pass\".\n",
        "3. Training accuracy should be around **85%**."
      ]
    },
    {
      "cell_type": "code",
      "metadata": {
        "id": "t_16VlADVUuf",
        "colab": {
          "base_uri": "https://localhost:8080/"
        },
        "outputId": "8c9d33eb-c510-412c-f0b8-009381ac8538"
      },
      "source": [
        "# Evaluate the model\n",
        "m = X1.size\n",
        "correctPredictions = 0\n",
        "for i in range(m):\n",
        "  # get i'th row of data\n",
        "  currentX = np.array([1, X1[i], X2[i]])\n",
        "  # get prediction of i'th row via sigmoid\n",
        "  prediction = sigmoid(np.dot(currentX, theta))\n",
        "  # confine the prediction to 0 or 1\n",
        "  if (prediction > 0.5):\n",
        "    prediction = 1\n",
        "  else:\n",
        "    prediction = 0\n",
        "  # confirm if the prediction is correct or not\n",
        "  if (prediction == Y[i]):\n",
        "    correctPredictions = correctPredictions + 1\n",
        "accuracy = correctPredictions / m\n",
        "print (accuracy)\n",
        "\n",
        "# Predicted Probability\n",
        "nuX = np.array([1, 56, 32])\n",
        "index = sigmoid(np.dot(nuX, theta))\n",
        "print(index)"
      ],
      "execution_count": 47,
      "outputs": [
        {
          "output_type": "stream",
          "name": "stdout",
          "text": [
            "0.85\n",
            "[0.27426662]\n"
          ]
        }
      ]
    }
  ]
}